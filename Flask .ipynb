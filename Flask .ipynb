{
 "cells": [
  {
   "cell_type": "markdown",
   "id": "lucky-representation",
   "metadata": {},
   "source": [
    "### Flask "
   ]
  },
  {
   "cell_type": "code",
   "execution_count": null,
   "id": "breathing-romantic",
   "metadata": {},
   "outputs": [],
   "source": [
    "Flask is Python Web Framework"
   ]
  },
  {
   "cell_type": "code",
   "execution_count": null,
   "id": "robust-jaguar",
   "metadata": {},
   "outputs": [],
   "source": [
    "pip install flask\n",
    "conda install flask\n",
    "\n",
    "www.zeenews.com/english\n",
    "www.zeenews.com/sports\n",
    "\n",
    "@app.route('/') >> We can pass api name in route\n",
    "\n",
    "WSGI >> Web Server Gateway Interface"
   ]
  },
  {
   "cell_type": "code",
   "execution_count": null,
   "id": "banner-forum",
   "metadata": {},
   "outputs": [],
   "source": [
    "Postman >> Used to test API\n",
    "\n",
    "http://127.0.0.1:5000/\n",
    "        "
   ]
  },
  {
   "cell_type": "code",
   "execution_count": 2,
   "id": "vocal-school",
   "metadata": {},
   "outputs": [
    {
     "data": {
      "text/plain": [
       "{'a': '100', 'b': '200'}"
      ]
     },
     "execution_count": 2,
     "metadata": {},
     "output_type": "execute_result"
    }
   ],
   "source": [
    "dict([('a', '100'), ('b', '200')])"
   ]
  },
  {
   "cell_type": "code",
   "execution_count": null,
   "id": "miniature-grade",
   "metadata": {},
   "outputs": [],
   "source": [
    "Project1:\n",
    "    168.56.2.145:5002/register\n",
    "    168.56.2.145:5002/login\n",
    "        \n",
    "Project2:\n",
    "    168.56.2.145:5005/register\n",
    "    168.56.2.145:5005/login\n",
    "        \n",
    "        \n",
    "Product Based >> User Interface\n",
    "Cognizant >> Service\n",
    "Client >> HDFC Bank\n",
    "Credit Risk Model"
   ]
  },
  {
   "cell_type": "code",
   "execution_count": null,
   "id": "interior-lying",
   "metadata": {},
   "outputs": [],
   "source": [
    "app.run(host= '0.0.0.0', port = 5002, debug=True)\n",
    "\n",
    "debug=True >> Debugger is active!"
   ]
  },
  {
   "cell_type": "code",
   "execution_count": null,
   "id": "interracial-protocol",
   "metadata": {},
   "outputs": [],
   "source": [
    "\n",
    "methods >> GET\n",
    "Unsecured HTTP Method\n",
    "Uncrypted\n",
    "\n",
    "data = request.agrs.get\n",
    "\n",
    "age = data['age']\n",
    "bmi = data['bmi']\n",
    "        http://192.168.0.107:5003/predict_charges?age=45&gender=male&bmi=45&children=2&smoker=no&region=northeast\n",
    "\n",
    "\n",
    "methods >> POST\n",
    "Secured HTTP Method\n",
    "Encrypted\n",
    "\n",
    "data = request.form.get\n",
    "\n",
    "age = data['age']\n",
    "bmi = data['bmi']\n",
    "\n",
    "chidren = request.form.get('chidren')\n",
    "\n",
    "http://192.168.0.107:5003/predict_charges\n"
   ]
  },
  {
   "cell_type": "code",
   "execution_count": 1,
   "id": "wireless-asset",
   "metadata": {},
   "outputs": [],
   "source": [
    "import pickle"
   ]
  },
  {
   "cell_type": "code",
   "execution_count": 2,
   "id": "contrary-rotation",
   "metadata": {},
   "outputs": [
    {
     "data": {
      "text/plain": [
       "[LinearRegression(), KNeighborsRegressor(n_neighbors=7, p=1)]"
      ]
     },
     "execution_count": 2,
     "metadata": {},
     "output_type": "execute_result"
    }
   ],
   "source": [
    "with open(r'artifacts/models.pkl','rb') as f:\n",
    "    models = pickle.load(f)\n",
    "models"
   ]
  },
  {
   "cell_type": "code",
   "execution_count": 4,
   "id": "figured-novel",
   "metadata": {},
   "outputs": [
    {
     "data": {
      "text/plain": [
       "LinearRegression()"
      ]
     },
     "execution_count": 4,
     "metadata": {},
     "output_type": "execute_result"
    }
   ],
   "source": [
    "linear_reg = models[0]\n",
    "linear_reg"
   ]
  },
  {
   "cell_type": "code",
   "execution_count": 5,
   "id": "excited-while",
   "metadata": {},
   "outputs": [
    {
     "data": {
      "text/plain": [
       "KNeighborsRegressor(n_neighbors=7, p=1)"
      ]
     },
     "execution_count": 5,
     "metadata": {},
     "output_type": "execute_result"
    }
   ],
   "source": [
    "knn_reg = models[1]\n",
    "knn_reg"
   ]
  },
  {
   "cell_type": "code",
   "execution_count": null,
   "id": "numerous-ensemble",
   "metadata": {},
   "outputs": [],
   "source": []
  },
  {
   "cell_type": "code",
   "execution_count": null,
   "id": "willing-audience",
   "metadata": {},
   "outputs": [],
   "source": []
  }
 ],
 "metadata": {
  "kernelspec": {
   "display_name": "Python 3",
   "language": "python",
   "name": "python3"
  },
  "language_info": {
   "codemirror_mode": {
    "name": "ipython",
    "version": 3
   },
   "file_extension": ".py",
   "mimetype": "text/x-python",
   "name": "python",
   "nbconvert_exporter": "python",
   "pygments_lexer": "ipython3",
   "version": "3.8.7"
  }
 },
 "nbformat": 4,
 "nbformat_minor": 5
}
