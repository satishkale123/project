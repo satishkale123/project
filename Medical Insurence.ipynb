{
 "cells": [
  {
   "cell_type": "markdown",
   "id": "czech-mirror",
   "metadata": {},
   "source": [
    "### import Libraries"
   ]
  },
  {
   "cell_type": "code",
   "execution_count": 1,
   "id": "listed-gambling",
   "metadata": {},
   "outputs": [],
   "source": [
    "import pandas as pd\n",
    "import numpy as np\n",
    "import config1\n",
    "\n",
    "from sklearn.preprocessing import MinMaxScaler, StandardScaler\n",
    "from sklearn.model_selection import train_test_split\n",
    "from sklearn.linear_model import LinearRegression\n",
    "from sklearn.neighbors import KNeighborsRegressor\n",
    "\n",
    "import pickle\n",
    "import json"
   ]
  },
  {
   "cell_type": "markdown",
   "id": "geographic-norman",
   "metadata": {},
   "source": [
    "### Data Gathering "
   ]
  },
  {
   "cell_type": "code",
   "execution_count": 2,
   "id": "immune-guyana",
   "metadata": {},
   "outputs": [
    {
     "data": {
      "text/html": [
       "<div>\n",
       "<style scoped>\n",
       "    .dataframe tbody tr th:only-of-type {\n",
       "        vertical-align: middle;\n",
       "    }\n",
       "\n",
       "    .dataframe tbody tr th {\n",
       "        vertical-align: top;\n",
       "    }\n",
       "\n",
       "    .dataframe thead th {\n",
       "        text-align: right;\n",
       "    }\n",
       "</style>\n",
       "<table border=\"1\" class=\"dataframe\">\n",
       "  <thead>\n",
       "    <tr style=\"text-align: right;\">\n",
       "      <th></th>\n",
       "      <th>age</th>\n",
       "      <th>gender</th>\n",
       "      <th>bmi</th>\n",
       "      <th>children</th>\n",
       "      <th>smoker</th>\n",
       "      <th>region</th>\n",
       "      <th>charges</th>\n",
       "    </tr>\n",
       "  </thead>\n",
       "  <tbody>\n",
       "    <tr>\n",
       "      <th>0</th>\n",
       "      <td>19</td>\n",
       "      <td>female</td>\n",
       "      <td>27.900</td>\n",
       "      <td>0</td>\n",
       "      <td>yes</td>\n",
       "      <td>southwest</td>\n",
       "      <td>16884.92400</td>\n",
       "    </tr>\n",
       "    <tr>\n",
       "      <th>1</th>\n",
       "      <td>18</td>\n",
       "      <td>male</td>\n",
       "      <td>33.770</td>\n",
       "      <td>1</td>\n",
       "      <td>no</td>\n",
       "      <td>southeast</td>\n",
       "      <td>1725.55230</td>\n",
       "    </tr>\n",
       "    <tr>\n",
       "      <th>2</th>\n",
       "      <td>28</td>\n",
       "      <td>male</td>\n",
       "      <td>33.000</td>\n",
       "      <td>3</td>\n",
       "      <td>no</td>\n",
       "      <td>southeast</td>\n",
       "      <td>4449.46200</td>\n",
       "    </tr>\n",
       "    <tr>\n",
       "      <th>3</th>\n",
       "      <td>33</td>\n",
       "      <td>male</td>\n",
       "      <td>22.705</td>\n",
       "      <td>0</td>\n",
       "      <td>no</td>\n",
       "      <td>northwest</td>\n",
       "      <td>21984.47061</td>\n",
       "    </tr>\n",
       "    <tr>\n",
       "      <th>4</th>\n",
       "      <td>32</td>\n",
       "      <td>male</td>\n",
       "      <td>28.880</td>\n",
       "      <td>0</td>\n",
       "      <td>no</td>\n",
       "      <td>northwest</td>\n",
       "      <td>3866.85520</td>\n",
       "    </tr>\n",
       "    <tr>\n",
       "      <th>...</th>\n",
       "      <td>...</td>\n",
       "      <td>...</td>\n",
       "      <td>...</td>\n",
       "      <td>...</td>\n",
       "      <td>...</td>\n",
       "      <td>...</td>\n",
       "      <td>...</td>\n",
       "    </tr>\n",
       "    <tr>\n",
       "      <th>1333</th>\n",
       "      <td>50</td>\n",
       "      <td>male</td>\n",
       "      <td>30.970</td>\n",
       "      <td>3</td>\n",
       "      <td>no</td>\n",
       "      <td>northwest</td>\n",
       "      <td>10600.54830</td>\n",
       "    </tr>\n",
       "    <tr>\n",
       "      <th>1334</th>\n",
       "      <td>18</td>\n",
       "      <td>female</td>\n",
       "      <td>31.920</td>\n",
       "      <td>0</td>\n",
       "      <td>no</td>\n",
       "      <td>northeast</td>\n",
       "      <td>2205.98080</td>\n",
       "    </tr>\n",
       "    <tr>\n",
       "      <th>1335</th>\n",
       "      <td>18</td>\n",
       "      <td>female</td>\n",
       "      <td>36.850</td>\n",
       "      <td>0</td>\n",
       "      <td>no</td>\n",
       "      <td>southeast</td>\n",
       "      <td>1629.83350</td>\n",
       "    </tr>\n",
       "    <tr>\n",
       "      <th>1336</th>\n",
       "      <td>21</td>\n",
       "      <td>female</td>\n",
       "      <td>25.800</td>\n",
       "      <td>0</td>\n",
       "      <td>no</td>\n",
       "      <td>southwest</td>\n",
       "      <td>2007.94500</td>\n",
       "    </tr>\n",
       "    <tr>\n",
       "      <th>1337</th>\n",
       "      <td>61</td>\n",
       "      <td>female</td>\n",
       "      <td>29.070</td>\n",
       "      <td>0</td>\n",
       "      <td>yes</td>\n",
       "      <td>northwest</td>\n",
       "      <td>29141.36030</td>\n",
       "    </tr>\n",
       "  </tbody>\n",
       "</table>\n",
       "<p>1338 rows × 7 columns</p>\n",
       "</div>"
      ],
      "text/plain": [
       "      age  gender     bmi  children smoker     region      charges\n",
       "0      19  female  27.900         0    yes  southwest  16884.92400\n",
       "1      18    male  33.770         1     no  southeast   1725.55230\n",
       "2      28    male  33.000         3     no  southeast   4449.46200\n",
       "3      33    male  22.705         0     no  northwest  21984.47061\n",
       "4      32    male  28.880         0     no  northwest   3866.85520\n",
       "...   ...     ...     ...       ...    ...        ...          ...\n",
       "1333   50    male  30.970         3     no  northwest  10600.54830\n",
       "1334   18  female  31.920         0     no  northeast   2205.98080\n",
       "1335   18  female  36.850         0     no  southeast   1629.83350\n",
       "1336   21  female  25.800         0     no  southwest   2007.94500\n",
       "1337   61  female  29.070         0    yes  northwest  29141.36030\n",
       "\n",
       "[1338 rows x 7 columns]"
      ]
     },
     "execution_count": 2,
     "metadata": {},
     "output_type": "execute_result"
    }
   ],
   "source": [
    "df = pd.read_csv(config1.CSV_FILE_PATH)\n",
    "df"
   ]
  },
  {
   "cell_type": "markdown",
   "id": "public-alarm",
   "metadata": {},
   "source": [
    "### EDA"
   ]
  },
  {
   "cell_type": "code",
   "execution_count": 3,
   "id": "narrow-choice",
   "metadata": {},
   "outputs": [],
   "source": [
    "df['gender'].value_counts().to_dict()\n",
    "df['gender'].replace({'male': 1, 'female': 0}, inplace=True)"
   ]
  },
  {
   "cell_type": "code",
   "execution_count": 4,
   "id": "julian-poetry",
   "metadata": {},
   "outputs": [],
   "source": [
    "df['smoker'].value_counts().to_dict()\n",
    "df['smoker'].replace({'no': 0, 'yes': 1}, inplace=True)"
   ]
  },
  {
   "cell_type": "code",
   "execution_count": 5,
   "id": "rural-victor",
   "metadata": {},
   "outputs": [
    {
     "data": {
      "text/plain": [
       "{'southeast': 364, 'southwest': 325, 'northwest': 325, 'northeast': 324}"
      ]
     },
     "execution_count": 5,
     "metadata": {},
     "output_type": "execute_result"
    }
   ],
   "source": [
    "df['region'].value_counts().to_dict()"
   ]
  },
  {
   "cell_type": "code",
   "execution_count": 6,
   "id": "right-blend",
   "metadata": {},
   "outputs": [],
   "source": [
    "df = pd.get_dummies(df, columns=['region'])"
   ]
  },
  {
   "cell_type": "code",
   "execution_count": 7,
   "id": "serial-spectrum",
   "metadata": {},
   "outputs": [
    {
     "name": "stdout",
     "output_type": "stream",
     "text": [
      "<class 'pandas.core.frame.DataFrame'>\n",
      "RangeIndex: 1338 entries, 0 to 1337\n",
      "Data columns (total 10 columns):\n",
      " #   Column            Non-Null Count  Dtype  \n",
      "---  ------            --------------  -----  \n",
      " 0   age               1338 non-null   int64  \n",
      " 1   gender            1338 non-null   int64  \n",
      " 2   bmi               1338 non-null   float64\n",
      " 3   children          1338 non-null   int64  \n",
      " 4   smoker            1338 non-null   int64  \n",
      " 5   charges           1338 non-null   float64\n",
      " 6   region_northeast  1338 non-null   uint8  \n",
      " 7   region_northwest  1338 non-null   uint8  \n",
      " 8   region_southeast  1338 non-null   uint8  \n",
      " 9   region_southwest  1338 non-null   uint8  \n",
      "dtypes: float64(2), int64(4), uint8(4)\n",
      "memory usage: 68.1 KB\n"
     ]
    }
   ],
   "source": [
    "df.info()"
   ]
  },
  {
   "cell_type": "markdown",
   "id": "aerial-sugar",
   "metadata": {},
   "source": [
    "### Scaling"
   ]
  },
  {
   "cell_type": "code",
   "execution_count": 8,
   "id": "geological-upset",
   "metadata": {},
   "outputs": [],
   "source": [
    "x = df.drop('charges',axis = 1)\n",
    "\n",
    "normal_scaler = MinMaxScaler()\n",
    "array = normal_scaler.fit_transform(x)\n",
    "dfx = pd.DataFrame(array, columns = x.columns)\n"
   ]
  },
  {
   "cell_type": "markdown",
   "id": "blind-bronze",
   "metadata": {},
   "source": [
    "### Model Training"
   ]
  },
  {
   "cell_type": "markdown",
   "id": "reliable-iraqi",
   "metadata": {},
   "source": [
    "#### Linear Regression"
   ]
  },
  {
   "cell_type": "code",
   "execution_count": 9,
   "id": "previous-netscape",
   "metadata": {},
   "outputs": [
    {
     "data": {
      "text/plain": [
       "LinearRegression()"
      ]
     },
     "execution_count": 9,
     "metadata": {},
     "output_type": "execute_result"
    }
   ],
   "source": [
    "x = df.drop('charges',axis = 1)\n",
    "y = df['charges']\n",
    "x_train, x_test, y_train, y_test = train_test_split(x,y, test_size=0.2, random_state=30)\n",
    "linear_reg = LinearRegression()\n",
    "linear_reg.fit(x_train, y_train)"
   ]
  },
  {
   "cell_type": "code",
   "execution_count": 10,
   "id": "single-banana",
   "metadata": {},
   "outputs": [
    {
     "name": "stdout",
     "output_type": "stream",
     "text": [
      "Training R-Squared Value : 0.7477342139223713\n",
      "Testing R-Squared Value : 0.7598658432511417\n"
     ]
    }
   ],
   "source": [
    "# Linear Regression Evaluation\n",
    "train_score = linear_reg.score(x_train, y_train)\n",
    "print(\"Training R-Squared Value :\", train_score)\n",
    "\n",
    "test_score = linear_reg.score(x_test, y_test)\n",
    "print(\"Testing R-Squared Value :\", test_score)"
   ]
  },
  {
   "cell_type": "markdown",
   "id": "running-infection",
   "metadata": {},
   "source": [
    "#### KNN Regression"
   ]
  },
  {
   "cell_type": "code",
   "execution_count": 11,
   "id": "excessive-devices",
   "metadata": {},
   "outputs": [
    {
     "data": {
      "text/plain": [
       "KNeighborsRegressor(n_neighbors=7, p=1)"
      ]
     },
     "execution_count": 11,
     "metadata": {},
     "output_type": "execute_result"
    }
   ],
   "source": [
    "\n",
    "# x = df.drop('charges',axis = 1)\n",
    "y = df['charges']\n",
    "x_train, x_test, y_train, y_test = train_test_split(dfx,y, test_size=0.2, random_state=30)\n",
    "knn_reg = KNeighborsRegressor(n_neighbors=7, p = 1)\n",
    "knn_reg.fit(x_train, y_train)"
   ]
  },
  {
   "cell_type": "code",
   "execution_count": 12,
   "id": "athletic-protein",
   "metadata": {},
   "outputs": [
    {
     "name": "stdout",
     "output_type": "stream",
     "text": [
      "Training R-Squared Value : 0.8309903950818949\n",
      "Testing R-Squared Value : 0.7583719172035832\n"
     ]
    }
   ],
   "source": [
    "### KNN Evaluation\n",
    "train_score = knn_reg.score(x_train, y_train)\n",
    "print(\"Training R-Squared Value :\", train_score)\n",
    "\n",
    "test_score = knn_reg.score(x_test, y_test)\n",
    "print(\"Testing R-Squared Value :\", test_score)"
   ]
  },
  {
   "cell_type": "markdown",
   "id": "elect-planning",
   "metadata": {},
   "source": [
    "## Save Required Data"
   ]
  },
  {
   "cell_type": "markdown",
   "id": "auburn-flood",
   "metadata": {},
   "source": [
    "#### 1. Model"
   ]
  },
  {
   "cell_type": "code",
   "execution_count": 13,
   "id": "apart-mason",
   "metadata": {},
   "outputs": [],
   "source": [
    "with open(r'artifacts/regression_model.pkl','wb') as f:\n",
    "    pickle.dump(linear_reg, f)\n",
    "    "
   ]
  },
  {
   "cell_type": "code",
   "execution_count": 14,
   "id": "comprehensive-literacy",
   "metadata": {},
   "outputs": [
    {
     "data": {
      "text/plain": [
       "9"
      ]
     },
     "execution_count": 14,
     "metadata": {},
     "output_type": "execute_result"
    }
   ],
   "source": [
    "linear_reg.n_features_in_"
   ]
  },
  {
   "cell_type": "code",
   "execution_count": 15,
   "id": "significant-coating",
   "metadata": {},
   "outputs": [],
   "source": [
    "with open(r'artifacts/knn_reg_model.pkl','wb') as f:\n",
    "    pickle.dump(knn_reg, f)\n",
    "    "
   ]
  },
  {
   "cell_type": "markdown",
   "id": "attended-junction",
   "metadata": {},
   "source": [
    "#### 2. Save Column Names"
   ]
  },
  {
   "cell_type": "code",
   "execution_count": 16,
   "id": "speaking-france",
   "metadata": {},
   "outputs": [],
   "source": [
    "column_names = x.columns\n",
    "project_data = {\"Column Names\" : column_names.tolist(),\n",
    "               \"Gender\":{'male': 1, 'female': 0},\n",
    "               \"Smoker\" :{'no': 0, 'yes': 1},\n",
    "               \"Age\" : \"Log Transformation\"}\n",
    "\n",
    "with open(r'artifacts/project_data.json','w') as f:\n",
    "    json.dump(project_data, f)\n",
    "    "
   ]
  },
  {
   "cell_type": "markdown",
   "id": "light-chinese",
   "metadata": {},
   "source": [
    "#### 3. Save Scaler"
   ]
  },
  {
   "cell_type": "code",
   "execution_count": 17,
   "id": "excellent-ebony",
   "metadata": {},
   "outputs": [],
   "source": [
    "with open(r'artifacts/normal_scaler.pkl','wb') as f:\n",
    "    pickle.dump(normal_scaler, f)\n",
    "    "
   ]
  },
  {
   "cell_type": "code",
   "execution_count": null,
   "id": "flexible-compilation",
   "metadata": {},
   "outputs": [],
   "source": []
  },
  {
   "cell_type": "code",
   "execution_count": 18,
   "id": "nuclear-insight",
   "metadata": {},
   "outputs": [
    {
     "data": {
      "text/plain": [
       "Index(['age', 'gender', 'bmi', 'children', 'smoker', 'region_northeast',\n",
       "       'region_northwest', 'region_southeast', 'region_southwest'],\n",
       "      dtype='object')"
      ]
     },
     "execution_count": 18,
     "metadata": {},
     "output_type": "execute_result"
    }
   ],
   "source": [
    "x.columns"
   ]
  },
  {
   "cell_type": "code",
   "execution_count": 19,
   "id": "synthetic-region",
   "metadata": {},
   "outputs": [
    {
     "data": {
      "text/plain": [
       "9"
      ]
     },
     "execution_count": 19,
     "metadata": {},
     "output_type": "execute_result"
    }
   ],
   "source": [
    "linear_reg.n_features_in_"
   ]
  },
  {
   "cell_type": "code",
   "execution_count": null,
   "id": "dominant-oregon",
   "metadata": {},
   "outputs": [],
   "source": []
  },
  {
   "cell_type": "code",
   "execution_count": 43,
   "id": "explicit-egyptian",
   "metadata": {},
   "outputs": [
    {
     "data": {
      "text/plain": [
       "array([0., 0., 0., 0., 0., 0., 0., 0., 0.])"
      ]
     },
     "execution_count": 43,
     "metadata": {},
     "output_type": "execute_result"
    }
   ],
   "source": [
    "np.zeros(9)"
   ]
  },
  {
   "cell_type": "code",
   "execution_count": 45,
   "id": "likely-right",
   "metadata": {},
   "outputs": [
    {
     "data": {
      "text/plain": [
       "array([[0., 0., 0., 0., 0.],\n",
       "       [0., 0., 0., 0., 0.],\n",
       "       [0., 0., 0., 0., 0.],\n",
       "       [0., 0., 0., 0., 0.]])"
      ]
     },
     "execution_count": 45,
     "metadata": {},
     "output_type": "execute_result"
    }
   ],
   "source": [
    "np.zeros((4,5))"
   ]
  },
  {
   "cell_type": "code",
   "execution_count": 46,
   "id": "diverse-rating",
   "metadata": {},
   "outputs": [
    {
     "data": {
      "text/plain": [
       "array([[0., 0., 0., 0., 0., 0., 0., 0., 0.]])"
      ]
     },
     "execution_count": 46,
     "metadata": {},
     "output_type": "execute_result"
    }
   ],
   "source": [
    "np.zeros((1,9))"
   ]
  },
  {
   "cell_type": "code",
   "execution_count": 47,
   "id": "suspended-lancaster",
   "metadata": {},
   "outputs": [],
   "source": [
    "models = [linear_reg,knn_reg]\n",
    "with open(r'artifacts/models.pkl','wb') as f:\n",
    "    pickle.dump(models, f)\n",
    "    "
   ]
  }
 ],
 "metadata": {
  "kernelspec": {
   "display_name": "Python 3 (ipykernel)",
   "language": "python",
   "name": "python3"
  },
  "language_info": {
   "codemirror_mode": {
    "name": "ipython",
    "version": 3
   },
   "file_extension": ".py",
   "mimetype": "text/x-python",
   "name": "python",
   "nbconvert_exporter": "python",
   "pygments_lexer": "ipython3",
   "version": "3.9.12"
  }
 },
 "nbformat": 4,
 "nbformat_minor": 5
}
